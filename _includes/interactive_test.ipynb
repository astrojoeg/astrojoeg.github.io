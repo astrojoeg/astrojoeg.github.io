{
 "cells": [
  {
   "cell_type": "code",
   "execution_count": 2,
   "metadata": {},
   "outputs": [
    {
     "data": {
      "application/vnd.jupyter.widget-view+json": {
       "model_id": "fb945add0fe1401a9e7887a78d150b31",
       "version_major": 2,
       "version_minor": 0
      },
      "text/plain": [
       "interactive(children=(FloatSlider(value=25.25, description='d', max=50.0, min=0.5), Output(layout=Layout(heigh…"
      ]
     },
     "metadata": {},
     "output_type": "display_data"
    }
   ],
   "source": [
    "from ipywidgets import interactive\n",
    "import matplotlib.pyplot as plt\n",
    "%matplotlib inline\n",
    "\n",
    "def telescope(d):\n",
    "    fig, ax = plt.subplots()\n",
    "    telescope, = plt.plot(0.5, 0.37,markerfacecolor='k',marker=\"$\\u2A4D$\", ms=d)\n",
    "    plt.plot(0.5,-0.5,c='C5',marker='8',ms=400,alpha=0.8)\n",
    "    plt.ylim(0,1)\n",
    "    ax.margins(x=0)\n",
    "\n",
    "interactive_plot = interactive(telescope, d=(0.5, 50))\n",
    "output = interactive_plot.children[-1]\n",
    "output.layout.height = '350px'\n",
    "interactive_plot"
   ]
  },
  {
   "cell_type": "code",
   "execution_count": null,
   "metadata": {},
   "outputs": [],
   "source": []
  }
 ],
 "metadata": {
  "kernelspec": {
   "display_name": "Python 3",
   "language": "python",
   "name": "python3"
  },
  "language_info": {
   "codemirror_mode": {
    "name": "ipython",
    "version": 3
   },
   "file_extension": ".py",
   "mimetype": "text/x-python",
   "name": "python",
   "nbconvert_exporter": "python",
   "pygments_lexer": "ipython3",
   "version": "3.7.1"
  }
 },
 "nbformat": 4,
 "nbformat_minor": 4
}
